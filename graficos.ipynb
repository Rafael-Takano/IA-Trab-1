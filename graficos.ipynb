{
 "cells": [
  {
   "cell_type": "code",
   "execution_count": 1,
   "metadata": {},
   "outputs": [
    {
     "data": {
      "text/html": [
       "<div>\n",
       "<style scoped>\n",
       "    .dataframe tbody tr th:only-of-type {\n",
       "        vertical-align: middle;\n",
       "    }\n",
       "\n",
       "    .dataframe tbody tr th {\n",
       "        vertical-align: top;\n",
       "    }\n",
       "\n",
       "    .dataframe thead th {\n",
       "        text-align: right;\n",
       "    }\n",
       "</style>\n",
       "<table border=\"1\" class=\"dataframe\">\n",
       "  <thead>\n",
       "    <tr style=\"text-align: right;\">\n",
       "      <th></th>\n",
       "      <th>experimento</th>\n",
       "      <th>metodo</th>\n",
       "      <th>tempo</th>\n",
       "      <th>distancia</th>\n",
       "    </tr>\n",
       "  </thead>\n",
       "  <tbody>\n",
       "    <tr>\n",
       "      <th>0</th>\n",
       "      <td>1</td>\n",
       "      <td>Depht-First</td>\n",
       "      <td>0.137133</td>\n",
       "      <td>4.647486e+06</td>\n",
       "    </tr>\n",
       "    <tr>\n",
       "      <th>1</th>\n",
       "      <td>1</td>\n",
       "      <td>Breadth-First</td>\n",
       "      <td>0.177007</td>\n",
       "      <td>2.756621e+04</td>\n",
       "    </tr>\n",
       "    <tr>\n",
       "      <th>2</th>\n",
       "      <td>1</td>\n",
       "      <td>Best-First</td>\n",
       "      <td>0.301768</td>\n",
       "      <td>1.046876e+05</td>\n",
       "    </tr>\n",
       "    <tr>\n",
       "      <th>3</th>\n",
       "      <td>1</td>\n",
       "      <td>A Half</td>\n",
       "      <td>5.545278</td>\n",
       "      <td>2.429566e+04</td>\n",
       "    </tr>\n",
       "    <tr>\n",
       "      <th>4</th>\n",
       "      <td>1</td>\n",
       "      <td>A*</td>\n",
       "      <td>4.151339</td>\n",
       "      <td>2.429566e+04</td>\n",
       "    </tr>\n",
       "    <tr>\n",
       "      <th>5</th>\n",
       "      <td>2</td>\n",
       "      <td>Depht-First</td>\n",
       "      <td>0.242437</td>\n",
       "      <td>6.169528e+06</td>\n",
       "    </tr>\n",
       "    <tr>\n",
       "      <th>6</th>\n",
       "      <td>2</td>\n",
       "      <td>Breadth-First</td>\n",
       "      <td>0.240717</td>\n",
       "      <td>1.776645e+04</td>\n",
       "    </tr>\n",
       "    <tr>\n",
       "      <th>7</th>\n",
       "      <td>2</td>\n",
       "      <td>Best-First</td>\n",
       "      <td>0.264623</td>\n",
       "      <td>6.011600e+04</td>\n",
       "    </tr>\n",
       "    <tr>\n",
       "      <th>8</th>\n",
       "      <td>2</td>\n",
       "      <td>A Half</td>\n",
       "      <td>12.866562</td>\n",
       "      <td>1.334898e+04</td>\n",
       "    </tr>\n",
       "    <tr>\n",
       "      <th>9</th>\n",
       "      <td>2</td>\n",
       "      <td>A*</td>\n",
       "      <td>8.422331</td>\n",
       "      <td>1.334898e+04</td>\n",
       "    </tr>\n",
       "    <tr>\n",
       "      <th>10</th>\n",
       "      <td>3</td>\n",
       "      <td>Depht-First</td>\n",
       "      <td>0.204837</td>\n",
       "      <td>6.546906e+06</td>\n",
       "    </tr>\n",
       "    <tr>\n",
       "      <th>11</th>\n",
       "      <td>3</td>\n",
       "      <td>Breadth-First</td>\n",
       "      <td>0.158488</td>\n",
       "      <td>1.379459e+04</td>\n",
       "    </tr>\n",
       "    <tr>\n",
       "      <th>12</th>\n",
       "      <td>3</td>\n",
       "      <td>Best-First</td>\n",
       "      <td>0.261879</td>\n",
       "      <td>4.357877e+04</td>\n",
       "    </tr>\n",
       "    <tr>\n",
       "      <th>13</th>\n",
       "      <td>3</td>\n",
       "      <td>A Half</td>\n",
       "      <td>18.994338</td>\n",
       "      <td>1.015527e+04</td>\n",
       "    </tr>\n",
       "    <tr>\n",
       "      <th>14</th>\n",
       "      <td>3</td>\n",
       "      <td>A*</td>\n",
       "      <td>9.718720</td>\n",
       "      <td>1.015527e+04</td>\n",
       "    </tr>\n",
       "  </tbody>\n",
       "</table>\n",
       "</div>"
      ],
      "text/plain": [
       "    experimento         metodo      tempo     distancia\n",
       "0             1    Depht-First   0.137133  4.647486e+06\n",
       "1             1  Breadth-First   0.177007  2.756621e+04\n",
       "2             1     Best-First   0.301768  1.046876e+05\n",
       "3             1         A Half   5.545278  2.429566e+04\n",
       "4             1             A*   4.151339  2.429566e+04\n",
       "5             2    Depht-First   0.242437  6.169528e+06\n",
       "6             2  Breadth-First   0.240717  1.776645e+04\n",
       "7             2     Best-First   0.264623  6.011600e+04\n",
       "8             2         A Half  12.866562  1.334898e+04\n",
       "9             2             A*   8.422331  1.334898e+04\n",
       "10            3    Depht-First   0.204837  6.546906e+06\n",
       "11            3  Breadth-First   0.158488  1.379459e+04\n",
       "12            3     Best-First   0.261879  4.357877e+04\n",
       "13            3         A Half  18.994338  1.015527e+04\n",
       "14            3             A*   9.718720  1.015527e+04"
      ]
     },
     "execution_count": 1,
     "metadata": {},
     "output_type": "execute_result"
    }
   ],
   "source": [
    "import pandas as pd\n",
    "import matplotlib.pyplot as plt\n",
    "import seaborn as sns\n",
    "\n",
    "df = pd.read_csv('dados.csv')\n",
    "df"
   ]
  },
  {
   "cell_type": "code",
   "execution_count": 2,
   "metadata": {},
   "outputs": [
    {
     "data": {
      "text/plain": [
       "<AxesSubplot: xlabel='experimento', ylabel='tempo'>"
      ]
     },
     "execution_count": 2,
     "metadata": {},
     "output_type": "execute_result"
    },
    {
     "data": {
      "image/png": "[encoded data removed]",
      "text/plain": [
       "<Figure size 432x288 with 1 Axes>"
      ]
     },
     "metadata": {
      "needs_background": "light"
     },
     "output_type": "display_data"
    }
   ],
   "source": [
    "sns.barplot(x='experimento', y='tempo', hue='metodo', data=df, log=True)"
   ]
  },
  {
   "cell_type": "code",
   "execution_count": 3,
   "metadata": {},
   "outputs": [
    {
     "data": {
      "text/plain": [
       "<AxesSubplot: xlabel='experimento', ylabel='distancia'>"
      ]
     },
     "execution_count": 3,
     "metadata": {},
     "output_type": "execute_result"
    },
    {
     "data": {
      "image/png": "[encoded data removed]",
      "text/plain": [
       "<Figure size 432x288 with 1 Axes>"
      ]
     },
     "metadata": {
      "needs_background": "light"
     },
     "output_type": "display_data"
    }
   ],
   "source": [
    "sns.barplot(x='experimento', y='distancia', hue='metodo', data=df, log=True)"
   ]
  }
 ],
 "metadata": {
  "kernelspec": {
   "display_name": "Python 3.10.5 64-bit",
   "language": "python",
   "name": "python3"
  },
  "language_info": {
   "codemirror_mode": {
    "name": "ipython",
    "version": 3
   },
   "file_extension": ".py",
   "mimetype": "text/x-python",
   "name": "python",
   "nbconvert_exporter": "python",
   "pygments_lexer": "ipython3",
   "version": "3.10.5"
  },
  "orig_nbformat": 4,
  "vscode": {
   "interpreter": {
    "hash": "6d39af34637300de76e4fda3797642094512e6d6256dd07866ef5166f9404e07"
   }
  }
 },
 "nbformat": 4,
 "nbformat_minor": 2
}
