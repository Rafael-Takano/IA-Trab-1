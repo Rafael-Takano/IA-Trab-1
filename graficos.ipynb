{
 "cells": [
  {
   "cell_type": "code",
   "execution_count": 4,
   "metadata": {},
   "outputs": [
    {
     "data": {
      "text/html": [
       "<div>\n",
       "<style scoped>\n",
       "    .dataframe tbody tr th:only-of-type {\n",
       "        vertical-align: middle;\n",
       "    }\n",
       "\n",
       "    .dataframe tbody tr th {\n",
       "        vertical-align: top;\n",
       "    }\n",
       "\n",
       "    .dataframe thead th {\n",
       "        text-align: right;\n",
       "    }\n",
       "</style>\n",
       "<table border=\"1\" class=\"dataframe\">\n",
       "  <thead>\n",
       "    <tr style=\"text-align: right;\">\n",
       "      <th></th>\n",
       "      <th>experimento</th>\n",
       "      <th>metodo</th>\n",
       "      <th>tempo</th>\n",
       "      <th>distancia</th>\n",
       "    </tr>\n",
       "  </thead>\n",
       "  <tbody>\n",
       "    <tr>\n",
       "      <th>0</th>\n",
       "      <td>1</td>\n",
       "      <td>Depht-First</td>\n",
       "      <td>0.181401</td>\n",
       "      <td>5.178550e+06</td>\n",
       "    </tr>\n",
       "    <tr>\n",
       "      <th>1</th>\n",
       "      <td>1</td>\n",
       "      <td>Breadth-First</td>\n",
       "      <td>0.212202</td>\n",
       "      <td>2.880700e+04</td>\n",
       "    </tr>\n",
       "    <tr>\n",
       "      <th>2</th>\n",
       "      <td>1</td>\n",
       "      <td>Best-First</td>\n",
       "      <td>0.266350</td>\n",
       "      <td>1.039745e+05</td>\n",
       "    </tr>\n",
       "    <tr>\n",
       "      <th>3</th>\n",
       "      <td>1</td>\n",
       "      <td>A*</td>\n",
       "      <td>5.845866</td>\n",
       "      <td>2.492961e+04</td>\n",
       "    </tr>\n",
       "    <tr>\n",
       "      <th>4</th>\n",
       "      <td>2</td>\n",
       "      <td>Depht-First</td>\n",
       "      <td>0.183805</td>\n",
       "      <td>6.177000e+06</td>\n",
       "    </tr>\n",
       "    <tr>\n",
       "      <th>5</th>\n",
       "      <td>2</td>\n",
       "      <td>Breadth-First</td>\n",
       "      <td>0.148450</td>\n",
       "      <td>1.577542e+04</td>\n",
       "    </tr>\n",
       "    <tr>\n",
       "      <th>6</th>\n",
       "      <td>2</td>\n",
       "      <td>Best-First</td>\n",
       "      <td>0.315591</td>\n",
       "      <td>7.903055e+04</td>\n",
       "    </tr>\n",
       "    <tr>\n",
       "      <th>7</th>\n",
       "      <td>2</td>\n",
       "      <td>A*</td>\n",
       "      <td>6.437851</td>\n",
       "      <td>1.309073e+04</td>\n",
       "    </tr>\n",
       "    <tr>\n",
       "      <th>8</th>\n",
       "      <td>3</td>\n",
       "      <td>Depht-First</td>\n",
       "      <td>0.190739</td>\n",
       "      <td>5.575101e+06</td>\n",
       "    </tr>\n",
       "    <tr>\n",
       "      <th>9</th>\n",
       "      <td>3</td>\n",
       "      <td>Breadth-First</td>\n",
       "      <td>0.107779</td>\n",
       "      <td>1.313315e+04</td>\n",
       "    </tr>\n",
       "    <tr>\n",
       "      <th>10</th>\n",
       "      <td>3</td>\n",
       "      <td>Best-First</td>\n",
       "      <td>0.263281</td>\n",
       "      <td>4.459153e+04</td>\n",
       "    </tr>\n",
       "    <tr>\n",
       "      <th>11</th>\n",
       "      <td>3</td>\n",
       "      <td>A*</td>\n",
       "      <td>9.825343</td>\n",
       "      <td>9.462782e+03</td>\n",
       "    </tr>\n",
       "  </tbody>\n",
       "</table>\n",
       "</div>"
      ],
      "text/plain": [
       "    experimento         metodo     tempo     distancia\n",
       "0             1    Depht-First  0.181401  5.178550e+06\n",
       "1             1  Breadth-First  0.212202  2.880700e+04\n",
       "2             1     Best-First  0.266350  1.039745e+05\n",
       "3             1             A*  5.845866  2.492961e+04\n",
       "4             2    Depht-First  0.183805  6.177000e+06\n",
       "5             2  Breadth-First  0.148450  1.577542e+04\n",
       "6             2     Best-First  0.315591  7.903055e+04\n",
       "7             2             A*  6.437851  1.309073e+04\n",
       "8             3    Depht-First  0.190739  5.575101e+06\n",
       "9             3  Breadth-First  0.107779  1.313315e+04\n",
       "10            3     Best-First  0.263281  4.459153e+04\n",
       "11            3             A*  9.825343  9.462782e+03"
      ]
     },
     "execution_count": 4,
     "metadata": {},
     "output_type": "execute_result"
    }
   ],
   "source": [
    "import pandas as pd\n",
    "import matplotlib.pyplot as plt\n",
    "import seaborn as sns\n",
    "\n",
    "df = pd.read_csv('dados.csv')\n",
    "df"
   ]
  },
  {
   "cell_type": "code",
   "execution_count": 5,
   "metadata": {},
   "outputs": [
    {
     "data": {
      "text/plain": [
       "<AxesSubplot: xlabel='experimento', ylabel='tempo'>"
      ]
     },
     "execution_count": 5,
     "metadata": {},
     "output_type": "execute_result"
    },
    {
     "data": {
      "image/png": "[encoded data removed]",
      "text/plain": [
       "<Figure size 432x288 with 1 Axes>"
      ]
     },
     "metadata": {
      "needs_background": "light"
     },
     "output_type": "display_data"
    }
   ],
   "source": [
    "sns.barplot(x='experimento', y='tempo', hue='metodo', data=df, log=True)"
   ]
  },
  {
   "cell_type": "code",
   "execution_count": 6,
   "metadata": {},
   "outputs": [
    {
     "data": {
      "text/plain": [
       "<AxesSubplot: xlabel='experimento', ylabel='distancia'>"
      ]
     },
     "execution_count": 6,
     "metadata": {},
     "output_type": "execute_result"
    },
    {
     "data": {
      "image/png": "[encoded data removed]",
      "text/plain": [
       "<Figure size 432x288 with 1 Axes>"
      ]
     },
     "metadata": {
      "needs_background": "light"
     },
     "output_type": "display_data"
    }
   ],
   "source": [
    "sns.barplot(x='experimento', y='distancia', hue='metodo', data=df, log=True)"
   ]
  }
 ],
 "metadata": {
  "kernelspec": {
   "display_name": "Python 3.10.5 64-bit",
   "language": "python",
   "name": "python3"
  },
  "language_info": {
   "codemirror_mode": {
    "name": "ipython",
    "version": 3
   },
   "file_extension": ".py",
   "mimetype": "text/x-python",
   "name": "python",
   "nbconvert_exporter": "python",
   "pygments_lexer": "ipython3",
   "version": "3.10.5"
  },
  "orig_nbformat": 4,
  "vscode": {
   "interpreter": {
    "hash": "6d39af34637300de76e4fda3797642094512e6d6256dd07866ef5166f9404e07"
   }
  }
 },
 "nbformat": 4,
 "nbformat_minor": 2
}
